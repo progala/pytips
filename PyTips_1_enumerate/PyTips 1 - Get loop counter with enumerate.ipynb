{
 "cells": [
  {
   "cell_type": "markdown",
   "metadata": {},
   "source": [
    "# PyTips 1 - Get loop counter with enumerate()"
   ]
  },
  {
   "cell_type": "markdown",
   "metadata": {},
   "source": [
    "#### Setup"
   ]
  },
  {
   "cell_type": "code",
   "execution_count": null,
   "metadata": {},
   "outputs": [],
   "source": [
    "my_ip = '10.16.32.113'\n",
    "\n",
    "my_ip_octets = my_ip.split('.')"
   ]
  },
  {
   "cell_type": "markdown",
   "metadata": {},
   "source": [
    "#### Looping over collection with helper variable."
   ]
  },
  {
   "cell_type": "code",
   "execution_count": null,
   "metadata": {},
   "outputs": [],
   "source": [
    "ip_to_dec = 0\n",
    "for i in range(len(my_ip_octets)):\n",
    "    ip_to_dec += int(my_ip_octets[i]) * 256**i\n",
    "\n",
    "print('{:<20}{:<20}'.format('Dotted-decimal', 'Decimal'))\n",
    "print('{:<20}{:<20}'.format(my_ip, ip_to_dec))"
   ]
  },
  {
   "cell_type": "markdown",
   "metadata": {},
   "source": [
    "#### Looping over collection with enumerate."
   ]
  },
  {
   "cell_type": "code",
   "execution_count": null,
   "metadata": {},
   "outputs": [],
   "source": [
    "ip_to_dec = 0\n",
    "for i, octet in enumerate(my_ip_octets):\n",
    "    ip_to_dec += int(octet) * 256**i\n",
    "    \n",
    "print('{:<20}{:<20}'.format('Dotted-decimal', 'Decimal'))\n",
    "print('{:<20}{:<20}'.format(my_ip, ip_to_dec))"
   ]
  },
  {
   "cell_type": "markdown",
   "metadata": {},
   "source": [
    "#### Enumerate with counter starting from 1."
   ]
  },
  {
   "cell_type": "code",
   "execution_count": null,
   "metadata": {},
   "outputs": [],
   "source": [
    "todo_list = [\n",
    "    'Snooze alarm',\n",
    "    'Reluctantly get up',\n",
    "    'Check email',\n",
    "    'Check Twitter',\n",
    "    'Check Facebook',\n",
    "    'Have coffee',\n",
    "]\n",
    "\n",
    "print('My TODO for today:')\n",
    "for i, elem in enumerate(todo_list, start=1):\n",
    "    print('{:>3}: {}'.format(i, elem))"
   ]
  },
  {
   "cell_type": "markdown",
   "metadata": {},
   "source": [
    "---\n",
    "Visit [TTL255](https://ttl255.com) for more Tips on Python, DevOps, and automation."
   ]
  }
 ],
 "metadata": {
  "kernelspec": {
   "display_name": "Python 3",
   "language": "python",
   "name": "python3"
  },
  "language_info": {
   "codemirror_mode": {
    "name": "ipython",
    "version": 3
   },
   "file_extension": ".py",
   "mimetype": "text/x-python",
   "name": "python",
   "nbconvert_exporter": "python",
   "pygments_lexer": "ipython3",
   "version": "3.6.5"
  }
 },
 "nbformat": 4,
 "nbformat_minor": 2
}
