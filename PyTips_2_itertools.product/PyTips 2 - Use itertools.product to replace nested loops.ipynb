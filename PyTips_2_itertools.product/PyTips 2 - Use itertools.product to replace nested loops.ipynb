{
 "cells": [
  {
   "cell_type": "markdown",
   "metadata": {},
   "source": [
    "# PyTips 2 - Use itertools.product to replace nested loops"
   ]
  },
  {
   "cell_type": "code",
   "execution_count": 1,
   "metadata": {},
   "outputs": [],
   "source": [
    "import itertools\n",
    "from pprint import pprint"
   ]
  },
  {
   "cell_type": "markdown",
   "metadata": {},
   "source": [
    "#### Example 1 - Function call within loop"
   ]
  },
  {
   "cell_type": "markdown",
   "metadata": {},
   "source": [
    "#### Setup"
   ]
  },
  {
   "cell_type": "code",
   "execution_count": 2,
   "metadata": {},
   "outputs": [],
   "source": [
    "def get_pfxs(region, role):\n",
    "    prefixes = {\n",
    "        'as': {\n",
    "            'data': ['10.1.2.0/25', '10.1.3.0/25'],\n",
    "            'voice': ['10.1.2.128/25', '10.1.3.128/25'],\n",
    "        },\n",
    "        'eu': {\n",
    "            'data': ['10.2.6.0/25', '10.2.7.0/25'],\n",
    "            'voice': ['10.2.6.128/25', '10.2.7.128/25'],\n",
    "        },\n",
    "        'na': {\n",
    "            'data': ['10.3.11.0/25', '10.3.11.0/25'],\n",
    "            'voice': ['10.3.12.128/25', '10.3.12.128/25'],\n",
    "        }\n",
    "    }\n",
    "    return prefixes[region][role]\n",
    "\n",
    "\n",
    "regions = ['as', 'eu', 'na']\n",
    "pfx_roles = ['data', 'voice']"
   ]
  },
  {
   "cell_type": "markdown",
   "metadata": {},
   "source": [
    "#### Function call inside of nested loop"
   ]
  },
  {
   "cell_type": "code",
   "execution_count": 3,
   "metadata": {},
   "outputs": [
    {
     "name": "stdout",
     "output_type": "stream",
     "text": [
      "['10.1.2.0/25',\n",
      " '10.1.3.0/25',\n",
      " '10.1.2.128/25',\n",
      " '10.1.3.128/25',\n",
      " '10.2.6.0/25',\n",
      " '10.2.7.0/25',\n",
      " '10.2.6.128/25',\n",
      " '10.2.7.128/25',\n",
      " '10.3.11.0/25',\n",
      " '10.3.11.0/25',\n",
      " '10.3.12.128/25',\n",
      " '10.3.12.128/25']\n"
     ]
    }
   ],
   "source": [
    "pfx_list = []\n",
    "for region in regions:\n",
    "    for role in pfx_roles:\n",
    "        pfx_list.extend(get_pfxs(region=region, role=role))\n",
    "pprint(pfx_list)"
   ]
  },
  {
   "cell_type": "markdown",
   "metadata": {},
   "source": [
    "#### Function call with loop and itertools.product"
   ]
  },
  {
   "cell_type": "code",
   "execution_count": 4,
   "metadata": {},
   "outputs": [
    {
     "name": "stdout",
     "output_type": "stream",
     "text": [
      "['10.1.2.0/25',\n",
      " '10.1.3.0/25',\n",
      " '10.1.2.128/25',\n",
      " '10.1.3.128/25',\n",
      " '10.2.6.0/25',\n",
      " '10.2.7.0/25',\n",
      " '10.2.6.128/25',\n",
      " '10.2.7.128/25',\n",
      " '10.3.11.0/25',\n",
      " '10.3.11.0/25',\n",
      " '10.3.12.128/25',\n",
      " '10.3.12.128/25']\n"
     ]
    }
   ],
   "source": [
    "pfx_list = []\n",
    "for region, role in itertools.product(regions, pfx_roles):\n",
    "    pfx_list.extend(get_pfxs(region=region, role=role))\n",
    "pprint(pfx_list)"
   ]
  },
  {
   "cell_type": "markdown",
   "metadata": {},
   "source": [
    "#### Example 2 - Device name generation"
   ]
  },
  {
   "cell_type": "markdown",
   "metadata": {},
   "source": [
    "#### Setup"
   ]
  },
  {
   "cell_type": "code",
   "execution_count": 5,
   "metadata": {},
   "outputs": [],
   "source": [
    "iata_cc = ['bai', 'mex', 'tyo', ]\n",
    "dev_types = ['switch', 'router']\n",
    "dev_roles = ['core', 'edge']"
   ]
  },
  {
   "cell_type": "markdown",
   "metadata": {},
   "source": [
    "#### Device name generation with nested loops"
   ]
  },
  {
   "cell_type": "code",
   "execution_count": 6,
   "metadata": {},
   "outputs": [
    {
     "name": "stdout",
     "output_type": "stream",
     "text": [
      "bai-switch-core-1\n",
      "bai-switch-core-2\n",
      "bai-switch-edge-1\n",
      "bai-switch-edge-2\n",
      "bai-router-core-1\n",
      "bai-router-core-2\n",
      "bai-router-edge-1\n",
      "bai-router-edge-2\n",
      "mex-switch-core-1\n",
      "mex-switch-core-2\n",
      "mex-switch-edge-1\n",
      "mex-switch-edge-2\n",
      "mex-router-core-1\n",
      "mex-router-core-2\n",
      "mex-router-edge-1\n",
      "mex-router-edge-2\n",
      "tyo-switch-core-1\n",
      "tyo-switch-core-2\n",
      "tyo-switch-edge-1\n",
      "tyo-switch-edge-2\n",
      "tyo-router-core-1\n",
      "tyo-router-core-2\n",
      "tyo-router-edge-1\n",
      "tyo-router-edge-2\n"
     ]
    }
   ],
   "source": [
    "for cc in iata_cc:\n",
    "    for dev_t in dev_types:\n",
    "        for dev_r in dev_roles:\n",
    "            for dev_id in range(1, 3):\n",
    "                print('{cc}-{dev_t}-{dev_r}-{dev_id}'.\n",
    "                      format(cc=cc, dev_t=dev_t, dev_r=dev_r, dev_id=dev_id))"
   ]
  },
  {
   "cell_type": "markdown",
   "metadata": {},
   "source": [
    "#### Device name generation with itertools.product"
   ]
  },
  {
   "cell_type": "code",
   "execution_count": 7,
   "metadata": {},
   "outputs": [
    {
     "name": "stdout",
     "output_type": "stream",
     "text": [
      "bai-switch-core-1\n",
      "bai-switch-core-2\n",
      "bai-switch-edge-1\n",
      "bai-switch-edge-2\n",
      "bai-router-core-1\n",
      "bai-router-core-2\n",
      "bai-router-edge-1\n",
      "bai-router-edge-2\n",
      "mex-switch-core-1\n",
      "mex-switch-core-2\n",
      "mex-switch-edge-1\n",
      "mex-switch-edge-2\n",
      "mex-router-core-1\n",
      "mex-router-core-2\n",
      "mex-router-edge-1\n",
      "mex-router-edge-2\n",
      "tyo-switch-core-1\n",
      "tyo-switch-core-2\n",
      "tyo-switch-edge-1\n",
      "tyo-switch-edge-2\n",
      "tyo-router-core-1\n",
      "tyo-router-core-2\n",
      "tyo-router-edge-1\n",
      "tyo-router-edge-2\n"
     ]
    }
   ],
   "source": [
    "for cc, dev_t, dev_r, dev_id in itertools.product(iata_cc, dev_types, dev_roles, range(1, 3)):\n",
    "    print('{cc}-{dev_t}-{dev_r}-{dev_id}'.\n",
    "          format(cc=cc, dev_t=dev_t, dev_r=dev_r, dev_id=dev_id))"
   ]
  },
  {
   "cell_type": "markdown",
   "metadata": {},
   "source": [
    "---\n",
    "Visit [TTL255](https://ttl255.com) for more Tips on Python, DevOps, and automation."
   ]
  }
 ],
 "metadata": {
  "kernelspec": {
   "display_name": "Python 3",
   "language": "python",
   "name": "python3"
  },
  "language_info": {
   "codemirror_mode": {
    "name": "ipython",
    "version": 3
   },
   "file_extension": ".py",
   "mimetype": "text/x-python",
   "name": "python",
   "nbconvert_exporter": "python",
   "pygments_lexer": "ipython3",
   "version": "3.6.5"
  }
 },
 "nbformat": 4,
 "nbformat_minor": 2
}
